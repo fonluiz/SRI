{
 "cells": [
  {
   "cell_type": "markdown",
   "metadata": {},
   "source": [
    "# Construção de Índice Invertido e Busca Booleana"
   ]
  },
  {
   "cell_type": "code",
   "execution_count": null,
   "metadata": {},
   "outputs": [],
   "source": [
    "# Bibliotecas\n",
    "import nltk\n",
    "import numpy as np\n",
    "import pandas as pd\n",
    "\n",
    "news_df = pd.read_csv(\"data/local_newspaper_news(pt-br).csv\", engine = \"python\")\n",
    "\n",
    "# Construção de índice invertido\n",
    "# A melhor estrutura de dados para se utilizar na construção do índice invertido é tabela hash.\n",
    "# Em Python, dicionários são implementados utilizando tabelas hash. Dicionário é um array cujos índeces \n",
    "# são obtidos aplicando uma função hash nas chaves.\n",
    "def create_indexer(df):\n",
    "    indexer = {}\n",
    "    \n",
    "    for index, row in df.iterrows():\n",
    "        document = row['titulo'] + \" \" + row['conteudo']\n",
    "        document = preprocess(document)\n",
    "        doc_id = row['idNoticia']\n",
    "        \n",
    "        for term in document.split():\n",
    "            if term in indexer:             \n",
    "                indexer[term].add(doc_id)\n",
    "            else:\n",
    "                indexer[term] = set([doc_id])\n",
    "    \n",
    "    return indexer\n",
    "\n",
    "def preprocess(text):\n",
    "    return text.lower()\n",
    "\n",
    "news_indexer = create_indexer(news_df)\n",
    "\n",
    "def and_search(term1, term2):\n",
    "    result = []\n",
    "    \n",
    "    term1 = preprocess(term1)\n",
    "    term2 = preprocess(term2)\n",
    "    \n",
    "    posting1 = news_indexer[term1]\n",
    "    posting2 = news_indexer[term2]\n",
    "      \n",
    "    iterator1 = iter(posting1)\n",
    "    iterator2 = iter(posting2)\n",
    "    \n",
    "    element1 = next(iterator1, None)\n",
    "    element2 = next(iterator2, None)\n",
    "    \n",
    "    while (element1 != None) and (element2 != None):\n",
    "        if element1 == element2:\n",
    "            result.append(element1)\n",
    "        elif element1 < element2:\n",
    "            element1 = next(iterator1, None)\n",
    "        else:\n",
    "            element2 = next(iterator2, None)\n",
    "    \n",
    "    print(\"result\")\n",
    "        \n",
    "        \n",
    "and_search(\"Campina\", \"Grande\")\n",
    "\n",
    "\n",
    "    "
   ]
  },
  {
   "cell_type": "code",
   "execution_count": null,
   "metadata": {
    "collapsed": true
   },
   "outputs": [],
   "source": []
  },
  {
   "cell_type": "code",
   "execution_count": null,
   "metadata": {
    "collapsed": true
   },
   "outputs": [],
   "source": []
  }
 ],
 "metadata": {
  "kernelspec": {
   "display_name": "Python 3",
   "language": "python",
   "name": "python3"
  },
  "language_info": {
   "codemirror_mode": {
    "name": "ipython",
    "version": 3
   },
   "file_extension": ".py",
   "mimetype": "text/x-python",
   "name": "python",
   "nbconvert_exporter": "python",
   "pygments_lexer": "ipython3",
   "version": "3.6.4"
  }
 },
 "nbformat": 4,
 "nbformat_minor": 2
}
