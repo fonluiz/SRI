{
 "cells": [
  {
   "cell_type": "markdown",
   "metadata": {},
   "source": [
    "# Parte 1 - Índice Invertido e Busca Booleana"
   ]
  },
  {
   "cell_type": "markdown",
   "metadata": {},
   "source": [
    "O objetivo desta atividade é construir um índice invertido a partir de um conjunto de notícias. Após a indexação, iremos realizar buscas booleanas sobre o indexador.\n",
    "  \n",
    "Os [dados](https://raw.githubusercontent.com/fonluiz/SRI/master/mini-project-1/data/local_newspaper_news(pt-br).csv) utilizados na construção do índece invertido foram retirados do site [Estadão Online](http://www.estadao.com.br/). Trata-se de um arquivo csv com três colunas - titulo, conteudo e idNoticia. \n",
    "\n",
    "O código abaixo exibe as primeiras linhas do arquivo csv."
   ]
  },
  {
   "cell_type": "code",
   "execution_count": 1,
   "metadata": {},
   "outputs": [
    {
     "ename": "NameError",
     "evalue": "name 'pd' is not defined",
     "output_type": "error",
     "traceback": [
      "\u001b[0;31m---------------------------------------------------------------------------\u001b[0m",
      "\u001b[0;31mNameError\u001b[0m                                 Traceback (most recent call last)",
      "\u001b[0;32m<ipython-input-1-8f31eac35f24>\u001b[0m in \u001b[0;36m<module>\u001b[0;34m()\u001b[0m\n\u001b[0;32m----> 1\u001b[0;31m \u001b[0mnews_df\u001b[0m \u001b[0;34m=\u001b[0m \u001b[0mpd\u001b[0m\u001b[0;34m.\u001b[0m\u001b[0mread_csv\u001b[0m\u001b[0;34m(\u001b[0m\u001b[0;34m\"data/local_newspaper_news(pt-br).csv\"\u001b[0m\u001b[0;34m,\u001b[0m \u001b[0mengine\u001b[0m \u001b[0;34m=\u001b[0m \u001b[0;34m\"python\"\u001b[0m\u001b[0;34m)\u001b[0m\u001b[0;34m\u001b[0m\u001b[0m\n\u001b[0m\u001b[1;32m      2\u001b[0m \u001b[0;34m\u001b[0m\u001b[0m\n\u001b[1;32m      3\u001b[0m \u001b[0mnews_df\u001b[0m\u001b[0;34m.\u001b[0m\u001b[0mhead\u001b[0m\u001b[0;34m(\u001b[0m\u001b[0;34m)\u001b[0m\u001b[0;34m\u001b[0m\u001b[0m\n",
      "\u001b[0;31mNameError\u001b[0m: name 'pd' is not defined"
     ]
    }
   ],
   "source": [
    "import pandas as pd\n",
    "\n",
    "news_df = pd.read_csv(\"data/local_newspaper_news(pt-br).csv\", engine = \"python\")\n",
    "\n",
    "news_df.head()"
   ]
  },
  {
   "cell_type": "markdown",
   "metadata": {},
   "source": [
    "### Passo 1: Criar o índice invertido\n",
    "\n",
    "Um indice invertido é uma estrutura que guarda cada palavra em uma coleção de documentos e juntamente com essas palavras, guarda uma lista de todos os documentos em que essa palavra aparece.\n",
    "\n",
    "A melhor estrutura de dados para se utilizar na construção de um índice invertido é tabelas hash. \n",
    "\n",
    "Em Python, dicionários são implementados utilizando tabelas hash. Dicionário é um array cujos índeces são obtidos aplicando uma função hash nas chaves."
   ]
  },
  {
   "cell_type": "code",
   "execution_count": null,
   "metadata": {},
   "outputs": [],
   "source": [
    "\"\"\"Cria uma estrutura de índice invertido.\n",
    "\n",
    "argumentos:\n",
    "df -- Um dataframe pandas \n",
    "\"\"\"\n",
    "def create_indexer(df):\n",
    "    global indexer\n",
    "    indexer = {}\n",
    "\n",
    "    for index, row in df.iterrows():\n",
    "        document = row['titulo'] + \" \" + row['conteudo']\n",
    "        document = preprocess(document)\n",
    "        doc_id = row['idNoticia']\n",
    "\n",
    "        for term in document.split():\n",
    "            if term in indexer:\n",
    "                indexer[term].add(doc_id)\n",
    "            else:\n",
    "                indexer[term] = set([doc_id])\n",
    "\n",
    "\"\"\"Converte uma string para caixa baixa.\"\"\"\n",
    "def preprocess(text):\n",
    "    return text.lower()\n"
   ]
  },
  {
   "cell_type": "markdown",
   "metadata": {
    "collapsed": true
   },
   "source": [
    "### Passo 2: Definir a função de busca\n",
    "\n",
    "A função de busca deve ser capaz de fazer consultas simples de um termo ou consultas de dois termos com os operadores AND e OR. A entrada da função é uma string, por exemplo, \"debate OR presidencial\".\n",
    "\n",
    "Abaixo encontra-se o código dessa função de busca."
   ]
  },
  {
   "cell_type": "code",
   "execution_count": null,
   "metadata": {},
   "outputs": [],
   "source": [
    "\"\"\"Executa uma busca booleana conjuntiva.\n",
    "\n",
    "argumentos:\n",
    "term1 -- o primeiro termo a se buscar\n",
    "term2 -- o segundo termo a se buscar\n",
    "\"\"\"\n",
    "def and_search(term1, term2):\n",
    "    term1 = preprocess(term1)\n",
    "    term2 = preprocess(term2)\n",
    "\n",
    "    posting1 = indexer[term1]\n",
    "    posting2 = indexer[term2]\n",
    "\n",
    "    return (posting1 & posting2)\n",
    "\n",
    "\n",
    "\"\"\"Executa uma busca booleana disjuntiva.\n",
    "\n",
    "argumentos:\n",
    "term1 -- o primeiro termo a se buscar\n",
    "term2 -- o segundo termo a se buscar\n",
    "\"\"\"\n",
    "def or_search(term1, term2):\n",
    "    term1 = preprocess(term1)\n",
    "    term2 = preprocess(term2)\n",
    "\n",
    "    posting1 = indexer[term1]\n",
    "    posting2 = indexer[term2]\n",
    "\n",
    "    return (posting1 | posting2)\n",
    "\n",
    "\n",
    "\"\"\"Executa uma busca booleana qualquer na estrutura de índece invertido.\n",
    "\n",
    "argumentos:\n",
    "query -- A consulta a se fazer, que deve conter o(s) termo(s) a se buscar e um operador (opcional)\n",
    "\"\"\"\n",
    "def search(query):\n",
    "    and_op = \" AND \"\n",
    "    or_op = \" OR \"\n",
    "\n",
    "    if and_op in query:\n",
    "        terms = query.split(and_op)\n",
    "        return and_search(terms[0], terms[1])\n",
    "    elif or_op in query:\n",
    "        terms = query.split(or_op)\n",
    "        return or_search(terms[0], terms[1])\n",
    "    else:\n",
    "        query = preprocess(query)\n",
    "        return indexer[query]"
   ]
  },
  {
   "cell_type": "markdown",
   "metadata": {},
   "source": [
    "### Parte 3: Avaliação das funções de busca\n",
    "\n",
    "Vamos testar as seguintes consultas e imprimir os resultados.\n",
    "\n",
    "1. candidatos\n",
    "2. debate, presidencial (AND e OR);\n",
    "3. presidenciáveis, corruptos (AND e OR);\n",
    "4. Belo, Horizonte (AND e OR)"
   ]
  },
  {
   "cell_type": "code",
   "execution_count": null,
   "metadata": {},
   "outputs": [],
   "source": [
    "# Primeiro criamos o indexer\n",
    "create_indexer(news_df)\n",
    "\n",
    "# print(search(\"candidatos\"))\n",
    "# print(search(\"debate OR presidencial\"))\n",
    "# print(search(\"debate AND presidencial\"))\n",
    "# print(search(\"presidenciáveis OR corruptos\"))\n",
    "# print(search(\"presidenciáveis AND corruptos\"))\n",
    "# print(search(\"Belo OR Horizonte\"))\n",
    "# print(search(\"Belo AND Horizonte\"))\n",
    "\n",
    "assert len(search(\"debate OR presidencial\")) == 1770\n",
    "assert len(search(\"debate AND presidencial\")) == 201\n",
    "\n",
    "assert len(search(\"presidenciáveis OR corruptos\")) == 164\n",
    "assert len(search(\"presidenciáveis AND corruptos\")) == 0\n",
    "\n",
    "assert len(search(\"Belo OR Horizonte\")) == 331\n",
    "assert len(search(\"Belo AND Horizonte\")) == 242"
   ]
  }
 ],
 "metadata": {
  "kernelspec": {
   "display_name": "Python 3",
   "language": "python",
   "name": "python3"
  },
  "language_info": {
   "codemirror_mode": {
    "name": "ipython",
    "version": 3
   },
   "file_extension": ".py",
   "mimetype": "text/x-python",
   "name": "python",
   "nbconvert_exporter": "python",
   "pygments_lexer": "ipython3",
   "version": "3.6.4"
  }
 },
 "nbformat": 4,
 "nbformat_minor": 2
}
