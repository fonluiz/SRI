{
 "cells": [
  {
   "cell_type": "markdown",
   "metadata": {},
   "source": [
    "# Construção de Índice Invertido e Busca Booleana"
   ]
  },
  {
   "cell_type": "code",
   "execution_count": 1,
   "metadata": {},
   "outputs": [
    {
     "name": "stdout",
     "output_type": "stream",
     "text": [
      "lendo dados\n",
      "Criando Indexer\n"
     ]
    },
    {
     "ename": "TypeError",
     "evalue": "unsupported operand type(s) for +: 'int' and 'str'",
     "output_type": "error",
     "traceback": [
      "\u001b[0;31m---------------------------------------------------------------------------\u001b[0m",
      "\u001b[0;31mTypeError\u001b[0m                                 Traceback (most recent call last)",
      "\u001b[0;32m<ipython-input-1-ab19e4280123>\u001b[0m in \u001b[0;36m<module>\u001b[0;34m()\u001b[0m\n\u001b[1;32m     37\u001b[0m \u001b[0;34m\u001b[0m\u001b[0m\n\u001b[1;32m     38\u001b[0m \u001b[0mprint\u001b[0m\u001b[0;34m(\u001b[0m\u001b[0;34m\"Criando Indexer\"\u001b[0m\u001b[0;34m)\u001b[0m\u001b[0;34m\u001b[0m\u001b[0m\n\u001b[0;32m---> 39\u001b[0;31m \u001b[0mnews_indexer\u001b[0m \u001b[0;34m=\u001b[0m \u001b[0mcreate_indexer\u001b[0m\u001b[0;34m(\u001b[0m\u001b[0mnews_df\u001b[0m\u001b[0;34m)\u001b[0m\u001b[0;34m\u001b[0m\u001b[0m\n\u001b[0m\u001b[1;32m     40\u001b[0m \u001b[0;34m\u001b[0m\u001b[0m\n\u001b[1;32m     41\u001b[0m \u001b[0;32mdef\u001b[0m \u001b[0mand_search\u001b[0m\u001b[0;34m(\u001b[0m\u001b[0mterm1\u001b[0m\u001b[0;34m,\u001b[0m \u001b[0mterm2\u001b[0m\u001b[0;34m)\u001b[0m\u001b[0;34m:\u001b[0m\u001b[0;34m\u001b[0m\u001b[0m\n",
      "\u001b[0;32m<ipython-input-1-ab19e4280123>\u001b[0m in \u001b[0;36mcreate_indexer\u001b[0;34m(df)\u001b[0m\n\u001b[1;32m     19\u001b[0m     \u001b[0;32mfor\u001b[0m \u001b[0mindex\u001b[0m\u001b[0;34m,\u001b[0m \u001b[0mrow\u001b[0m \u001b[0;32min\u001b[0m \u001b[0mdf\u001b[0m\u001b[0;34m.\u001b[0m\u001b[0miterrows\u001b[0m\u001b[0;34m(\u001b[0m\u001b[0;34m)\u001b[0m\u001b[0;34m:\u001b[0m\u001b[0;34m\u001b[0m\u001b[0m\n\u001b[1;32m     20\u001b[0m         \u001b[0mcount\u001b[0m \u001b[0;34m+=\u001b[0m \u001b[0;36m1\u001b[0m\u001b[0;34m\u001b[0m\u001b[0m\n\u001b[0;32m---> 21\u001b[0;31m         \u001b[0mprint\u001b[0m\u001b[0;34m(\u001b[0m\u001b[0mcount\u001b[0m \u001b[0;34m+\u001b[0m \u001b[0;34m\" / \"\u001b[0m \u001b[0;34m+\u001b[0m \u001b[0mnrows\u001b[0m\u001b[0;34m)\u001b[0m\u001b[0;34m\u001b[0m\u001b[0m\n\u001b[0m\u001b[1;32m     22\u001b[0m         \u001b[0mdocument\u001b[0m \u001b[0;34m=\u001b[0m \u001b[0mrow\u001b[0m\u001b[0;34m[\u001b[0m\u001b[0;34m'titulo'\u001b[0m\u001b[0;34m]\u001b[0m \u001b[0;34m+\u001b[0m \u001b[0;34m\" \"\u001b[0m \u001b[0;34m+\u001b[0m \u001b[0mrow\u001b[0m\u001b[0;34m[\u001b[0m\u001b[0;34m'conteudo'\u001b[0m\u001b[0;34m]\u001b[0m\u001b[0;34m\u001b[0m\u001b[0m\n\u001b[1;32m     23\u001b[0m         \u001b[0mdocument\u001b[0m \u001b[0;34m=\u001b[0m \u001b[0mpreprocess\u001b[0m\u001b[0;34m(\u001b[0m\u001b[0mdocument\u001b[0m\u001b[0;34m)\u001b[0m\u001b[0;34m\u001b[0m\u001b[0m\n",
      "\u001b[0;31mTypeError\u001b[0m: unsupported operand type(s) for +: 'int' and 'str'"
     ]
    }
   ],
   "source": [
    "# Bibliotecas\n",
    "import nltk\n",
    "import numpy as np\n",
    "import pandas as pd\n",
    "\n",
    "print(\"lendo dados\")\n",
    "news_df = pd.read_csv(\"data/local_newspaper_news(pt-br).csv\", engine = \"python\")\n",
    "\n",
    "\n",
    "# Construção de índice invertido\n",
    "# A melhor estrutura de dados para se utilizar na construção do índice invertido é tabela hash.\n",
    "# Em Python, dicionários são implementados utilizando tabelas hash. Dicionário é um array cujos índeces \n",
    "# são obtidos aplicando uma função hash nas chaves.\n",
    "def create_indexer(df):\n",
    "    indexer = {}\n",
    "    \n",
    "    count = 0\n",
    "    nrows = len(df)\n",
    "    for index, row in df.iterrows():\n",
    "        count += 1\n",
    "        print(str(count) + \" / \" + str(nrows))\n",
    "        document = row['titulo'] + \" \" + row['conteudo']\n",
    "        document = preprocess(document)\n",
    "        doc_id = row['idNoticia']\n",
    "        \n",
    "        for term in document.split():\n",
    "            if term in indexer:             \n",
    "                indexer[term].add(doc_id)\n",
    "            else:\n",
    "                indexer[term] = set([doc_id])\n",
    "    \n",
    "    return indexer\n",
    "\n",
    "def preprocess(text):\n",
    "    return text.lower()\n",
    "\n",
    "\n",
    "print(\"Criando Indexer\")\n",
    "news_indexer = create_indexer(news_df)\n",
    "\n",
    "def and_search(term1, term2):\n",
    "    result = []\n",
    "    \n",
    "    term1 = preprocess(term1)\n",
    "    term2 = preprocess(term2)\n",
    "    \n",
    "    posting1 = news_indexer[term1]\n",
    "    posting2 = news_indexer[term2]\n",
    "      \n",
    "    iterator1 = iter(posting1)\n",
    "    iterator2 = iter(posting2)\n",
    "    \n",
    "    element1 = next(iterator1, None)\n",
    "    element2 = next(iterator2, None)\n",
    "    \n",
    "    while (element1 != None) and (element2 != None):\n",
    "        if element1 == element2:\n",
    "            result.append(element1)\n",
    "        elif element1 < element2:\n",
    "            element1 = next(iterator1, None)\n",
    "        else:\n",
    "            element2 = next(iterator2, None)\n",
    "    \n",
    "    print(\"result\")\n",
    "        \n",
    "\n",
    "and_search(\"Campina\", \"Grande\")\n",
    "\n",
    "\n",
    "    "
   ]
  },
  {
   "cell_type": "code",
   "execution_count": null,
   "metadata": {
    "collapsed": true
   },
   "outputs": [],
   "source": []
  },
  {
   "cell_type": "code",
   "execution_count": null,
   "metadata": {
    "collapsed": true
   },
   "outputs": [],
   "source": []
  }
 ],
 "metadata": {
  "kernelspec": {
   "display_name": "Python 3",
   "language": "python",
   "name": "python3"
  },
  "language_info": {
   "codemirror_mode": {
    "name": "ipython",
    "version": 3
   },
   "file_extension": ".py",
   "mimetype": "text/x-python",
   "name": "python",
   "nbconvert_exporter": "python",
   "pygments_lexer": "ipython3",
   "version": "3.6.4"
  }
 },
 "nbformat": 4,
 "nbformat_minor": 2
}
